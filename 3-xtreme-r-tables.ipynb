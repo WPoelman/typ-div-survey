{
 "cells": [
  {
   "cell_type": "code",
   "execution_count": 36,
   "metadata": {},
   "outputs": [],
   "source": [
    "import pandas as pd\n",
    "from collections import defaultdict\n",
    "from fiject.visuals.tables import Table, ColumnStyle\n",
    "from fiject import CacheMode\n",
    "import numpy as np\n",
    "\n",
    "from formatting import make_it, make_bold\n",
    "\n",
    "WALS_DF = pd.read_csv(\"data/wals_dedup.csv\")\n",
    "X_DF = pd.read_csv(\"data/xtreme-r_results.csv\")"
   ]
  },
  {
   "cell_type": "code",
   "execution_count": 37,
   "metadata": {},
   "outputs": [],
   "source": [
    "WORD_ORDER = \"Order of Subject, Object and Verb\"\n",
    "INFLECTION = \"Prefixing vs. Suffixing in Inflectional Morphology\""
   ]
  },
  {
   "cell_type": "code",
   "execution_count": 38,
   "metadata": {},
   "outputs": [],
   "source": [
    "def get_wals_feature(feature_col):\n",
    "    return {row[\"ISO\"]: row[feature_col] for _, row in WALS_DF.iterrows()}\n",
    "\n",
    "\n",
    "def get_feature_order(feature):\n",
    "    return {\n",
    "        WORD_ORDER: [\n",
    "            \"SVO\",\n",
    "            \"SOV\",\n",
    "            \"VSO\",\n",
    "            \"OSV\",\n",
    "            \"OVS\",\n",
    "            \"VOS\",\n",
    "            \"No dominant order\",\n",
    "            \"nan\",\n",
    "        ],\n",
    "        INFLECTION: [\n",
    "            \"Equal prefixing and suffixing\",\n",
    "            \"Little affixation\",\n",
    "            \"Strong prefixing\",\n",
    "            \"Strongly suffixing\",\n",
    "            \"Weakly prefixing\",\n",
    "            \"Weakly suffixing\",\n",
    "            \"nan\",\n",
    "        ],\n",
    "    }.get(feature)"
   ]
  },
  {
   "cell_type": "code",
   "execution_count": 39,
   "metadata": {},
   "outputs": [],
   "source": [
    "TASK_LABEL_MAP = {\n",
    "    \"XNLI\": f'{make_bold(\"XNLI\")}\\\\acc',\n",
    "    \"XCOPA\": f'{make_bold(\"XCOPA\")}\\\\acc',\n",
    "    \"UD-POS\": f'{make_bold(\"UD-POS\")}\\\\f',\n",
    "    \"WikiANN-NER\": f'{make_bold(\"WikiANN-NER\")}\\\\f',\n",
    "    \"XQuAD\": f'{make_bold(\"XQuAD\")}\\\\f',\n",
    "    \"MLQA\": f'{make_bold(\"MLQA\")}\\\\f',\n",
    "    \"TyDiQA\": f'{make_bold(\"TyDiQA\")}\\\\f',\n",
    "    \"Tatoeba\": f'{make_bold(\"Tatoeba\")}\\\\acc',\n",
    "    \"Mewsli-X\": f'{make_bold(\"Mewsli-X\")}\\\\map',\n",
    "    \"LAReQA\": f'{make_bold(\"LAReQA\")}\\\\map',\n",
    "}\n",
    "\n",
    "FEATURE_LABEL_MAP = {\n",
    "    'Equal prefixing and suffixing': '\\makecell{Equal\\\\\\\\ Pre \\& Suf}',\n",
    "    'Little affixation': '\\makecell{Little\\\\\\\\ Aff}',\n",
    "    'Strong prefixing': '\\makecell{Strong\\\\\\\\ Pre}',\n",
    "    'Strongly suffixing': '\\makecell{Strong\\\\\\\\ Suf}',\n",
    "    'Weakly prefixing': '\\makecell{Weak\\\\\\\\ Pre}',\n",
    "    'Weakly suffixing': '\\makecell{Weak\\\\\\\\ Suf}',\n",
    "    'nan': 'NA',\n",
    "    \"SVO\": \"SVO\",\n",
    "    \"SOV\": \"SOV\",\n",
    "    \"VSO\": \"VSO\",\n",
    "    \"OSV\": \"OSV\",\n",
    "    \"OVS\": \"OVS\",\n",
    "    \"VOS\": \"VOS\",\n",
    "    \"No dominant order\": \"NDO\",\n",
    "}"
   ]
  },
  {
   "cell_type": "code",
   "execution_count": 24,
   "metadata": {},
   "outputs": [],
   "source": [
    "for label, feature_name in [('word_order', WORD_ORDER), ('inflection', INFLECTION)]:\n",
    "    features_by_lang = get_wals_feature(feature_name)\n",
    "    X_DF[f'has_{label}_coverage'] = X_DF['wals_iso'].apply(lambda lang: isinstance(features_by_lang[lang], str))"
   ]
  },
  {
   "cell_type": "code",
   "execution_count": 40,
   "metadata": {},
   "outputs": [
    {
     "data": {
      "text/plain": [
       "['LAReQA',\n",
       " 'MLQA',\n",
       " 'Mewsli-X',\n",
       " 'Tatoeba',\n",
       " 'TyDiQA',\n",
       " 'UD-POS',\n",
       " 'WikiANN-NER',\n",
       " 'XCOPA',\n",
       " 'XNLI',\n",
       " 'XQuAD']"
      ]
     },
     "execution_count": 40,
     "metadata": {},
     "output_type": "execute_result"
    }
   ],
   "source": [
    "sorted(X_DF[\"task\"].unique())"
   ]
  },
  {
   "cell_type": "code",
   "execution_count": 35,
   "metadata": {},
   "outputs": [
    {
     "data": {
      "text/plain": [
       "task         has_word_order_coverage\n",
       "LAReQA       True                       22\n",
       "MLQA         True                       21\n",
       "Mewsli-X     True                       22\n",
       "Tatoeba      True                       76\n",
       "             False                       6\n",
       "TyDiQA       True                       27\n",
       "UD-POS       True                       72\n",
       "             False                       4\n",
       "WikiANN-NER  True                       86\n",
       "             False                      10\n",
       "XCOPA        True                       27\n",
       "             False                       6\n",
       "XNLI         True                       45\n",
       "XQuAD        True                       33\n",
       "Name: count, dtype: int64"
      ]
     },
     "execution_count": 35,
     "metadata": {},
     "output_type": "execute_result"
    }
   ],
   "source": [
    "X_DF.groupby(['task']).value_counts(['has_word_order_coverage'])"
   ]
  },
  {
   "cell_type": "code",
   "execution_count": 9,
   "metadata": {},
   "outputs": [],
   "source": [
    "def create_table(feature, table_name):\n",
    "    table = Table(table_name, caching=CacheMode.NONE)\n",
    "    feature_vals = get_wals_feature(feature)\n",
    "    wals_l = get_feature_order(feature)\n",
    "\n",
    "    for task in X_DF[\"task\"].unique():\n",
    "        task_label = TASK_LABEL_MAP[task]\n",
    "        for model in sorted(X_DF[\"model\"].unique()):\n",
    "            # Get score per language\n",
    "            scores = X_DF.loc[(X_DF[\"task\"] == task) & (X_DF[\"model\"] == model)]\n",
    "            scores_dict = {\n",
    "                row[\"wals_iso\"]: float(row[\"score\"]) for _, row in scores.iterrows()\n",
    "            }\n",
    "\n",
    "            if len(scores) == 0:\n",
    "                continue\n",
    "\n",
    "            model_label = model\n",
    "            default_row = [task_label, model_label]\n",
    "\n",
    "            n_langs = len(X_DF[X_DF[\"task\"] == task][\"wals_iso\"].unique())\n",
    "            lang_label = f\"{make_it(n_langs)}\"\n",
    "\n",
    "            # Average overall\n",
    "            l_all = list(scores_dict.values())\n",
    "            avg_all = sum(l_all) / len(l_all)\n",
    "            overall_label = make_bold(\"Overall\")\n",
    "            table.set(f\"{avg_all:.2f} ({lang_label})\", default_row, [overall_label])\n",
    "\n",
    "            # Gather stats for results by WALS feature values\n",
    "            feat_results = defaultdict(list)\n",
    "            for lang, score in scores_dict.items():\n",
    "                feat_val = feature_vals[lang]\n",
    "                feat_results[str(feat_val)].append(score)\n",
    "\n",
    "            stats = {}\n",
    "            for feature, y in feat_results.items():\n",
    "                # exclude nans for per value average\n",
    "                scores_without_nan = [a for a in y if a != \"nan\"]\n",
    "                stats[feature] = (\n",
    "                    sum(scores_without_nan) / len(scores_without_nan),\n",
    "                    len(y),\n",
    "                )\n",
    "\n",
    "            feat_avgs = [feat_avg for feat_avg, _ in stats.values()]\n",
    "            f_avg = sum(feat_avgs) / len(feat_avgs) if len(feat_avgs) > 0 else \"-\"\n",
    "\n",
    "            f_langs = make_it(sum(c for l, (_, c) in stats.items() if l != \"nan\"))\n",
    "            by_f_val = f\"{f_avg:.2f} ({f_langs})\"\n",
    "            by_feat_label = make_bold(\"By F\")\n",
    "\n",
    "            table.set(by_f_val, default_row, [by_feat_label])\n",
    "            delta = f_avg - avg_all\n",
    "            table.set(f\"{delta:+.2f}\", default_row, [\"$\\Delta$\"])\n",
    "\n",
    "            if stats:\n",
    "                max_count = max(i[1] for i in stats.values())\n",
    "                min_count = min(i[1] for i in stats.values())\n",
    "            else:\n",
    "                max_count = None\n",
    "                min_count = None\n",
    "\n",
    "            for w_l in wals_l:\n",
    "                avg, count = stats.get(w_l, (None, 0))\n",
    "\n",
    "                if count == max_count:\n",
    "                    pre = \"\\cellcolor{high-color!40} \"\n",
    "                elif count == min_count:\n",
    "                    pre = \"\\cellcolor{low-color!40} \"\n",
    "                else:\n",
    "                    pre = \"\"\n",
    "\n",
    "                lang_l = f\"({make_it(count)})\"\n",
    "                val = f\"{pre} {avg:.2f} {lang_l}\" if avg else f\"- {lang_l}\"\n",
    "                feat_l = FEATURE_LABEL_MAP[w_l]\n",
    "\n",
    "                table.set(val, default_row, [feat_l])\n",
    "\n",
    "    table.commit(\n",
    "        default_column_style=ColumnStyle(\"l\"),\n",
    "        \n",
    "        do_hhline_syntax=False,\n",
    "    )"
   ]
  },
  {
   "cell_type": "markdown",
   "metadata": {},
   "source": [
    "# Note\n",
    "The final tables require some tweaks:\n",
    "- the first two columns need a column name\n",
    "- replace double hline with double midrule\n",
    "- add midrules between tasks\n",
    "- vertical line from where the feature columns start\n",
    "- alignment of delta is nicer with r instead of l\n",
    "- put \\\\ at the bottom row\n",
    "- add toprule and bottomrule"
   ]
  },
  {
   "cell_type": "code",
   "execution_count": 6,
   "metadata": {},
   "outputs": [
    {
     "name": "stdout",
     "output_type": "stream",
     "text": [
      "Writing .tex word_order ...\n",
      "\\begin{tabular}{ll||lllllllllll}\n",
      "\t                                        & & \\textbf{Overall} & \\textbf{By F} & $\\Delta$ & SVO & SOV & VSO & OSV & OVS & VOS & NDO & NA \\\\\\hline\\hline\n",
      "\t\\multirow{2}{*}{\\textbf{LAReQA}\\map} & XLM-R-L & 40.75 (\\textit{11}) & 39.31 (\\textit{11}) & -1.44 & \\cellcolor{high-color!40}  42.10 (\\textit{6}) &  39.75 (\\textit{2}) & \\cellcolor{low-color!40}  34.60 (\\textit{1}) & - (\\textit{0}) & - (\\textit{0}) & - (\\textit{0}) &  40.80 (\\textit{2}) & - (\\textit{0}) \\\\\n",
      "\t & mBERT & 21.58 (\\textit{11}) & 19.75 (\\textit{11}) & -1.83 & \\cellcolor{high-color!40}  24.10 (\\textit{6}) &  15.10 (\\textit{2}) & \\cellcolor{low-color!40}  17.00 (\\textit{1}) & - (\\textit{0}) & - (\\textit{0}) & - (\\textit{0}) &  22.80 (\\textit{2}) & - (\\textit{0}) \\\\\n",
      "\t\\multirow{3}{*}{\\textbf{MLQA}\\f} & XLM-R-L & 72.71 (\\textit{7}) & 70.83 (\\textit{7}) & -1.88 & \\cellcolor{high-color!40}  75.22 (\\textit{4}) & \\cellcolor{low-color!40}  70.80 (\\textit{1}) & \\cellcolor{low-color!40}  67.00 (\\textit{1}) & - (\\textit{0}) & - (\\textit{0}) & - (\\textit{0}) & \\cellcolor{low-color!40}  70.30 (\\textit{1}) & - (\\textit{0}) \\\\\n",
      "\t & mBERT & 61.30 (\\textit{7}) & 57.14 (\\textit{7}) & -4.16 & \\cellcolor{high-color!40}  66.85 (\\textit{4}) & \\cellcolor{low-color!40}  49.90 (\\textit{1}) & \\cellcolor{low-color!40}  51.60 (\\textit{1}) & - (\\textit{0}) & - (\\textit{0}) & - (\\textit{0}) & \\cellcolor{low-color!40}  60.20 (\\textit{1}) & - (\\textit{0}) \\\\\n",
      "\t & mT5 & 75.59 (\\textit{7}) & 74.06 (\\textit{7}) & -1.53 & \\cellcolor{high-color!40}  77.62 (\\textit{4}) & \\cellcolor{low-color!40}  75.30 (\\textit{1}) & \\cellcolor{low-color!40}  70.20 (\\textit{1}) & - (\\textit{0}) & - (\\textit{0}) & - (\\textit{0}) & \\cellcolor{low-color!40}  73.10 (\\textit{1}) & - (\\textit{0}) \\\\\n",
      "\t\\multirow{2}{*}{\\textbf{Mewsli-X}\\map} & XLM-R-L & 45.75 (\\textit{11}) & 45.66 (\\textit{11}) & -0.09 & \\cellcolor{high-color!40}  53.16 (\\textit{5}) &  35.98 (\\textit{4}) & \\cellcolor{low-color!40}  28.70 (\\textit{1}) & - (\\textit{0}) & - (\\textit{0}) & - (\\textit{0}) & \\cellcolor{low-color!40}  64.80 (\\textit{1}) & - (\\textit{0}) \\\\\n",
      "\t & mBERT & 38.58 (\\textit{11}) & 37.88 (\\textit{11}) & -0.71 & \\cellcolor{high-color!40}  47.28 (\\textit{5}) &  27.93 (\\textit{4}) & \\cellcolor{low-color!40}  15.30 (\\textit{1}) & - (\\textit{0}) & - (\\textit{0}) & - (\\textit{0}) & \\cellcolor{low-color!40}  61.00 (\\textit{1}) & - (\\textit{0}) \\\\\n",
      "\t\\multirow{2}{*}{\\textbf{Tatoeba}\\acc} & XLM-R & 77.29 (\\textit{41}) & 72.82 (\\textit{38}) & -4.46 & \\cellcolor{high-color!40}  81.42 (\\textit{18}) &  75.74 (\\textit{14}) & \\cellcolor{low-color!40}  64.55 (\\textit{2}) & - (\\textit{0}) & - (\\textit{0}) & - (\\textit{0}) &  86.57 (\\textit{4}) &  55.83 (\\textit{3}) \\\\\n",
      "\t & mBERT & 43.33 (\\textit{41}) & 39.66 (\\textit{38}) & -3.67 & \\cellcolor{high-color!40}  52.57 (\\textit{18}) &  33.04 (\\textit{14}) & \\cellcolor{low-color!40}  25.10 (\\textit{2}) & - (\\textit{0}) & - (\\textit{0}) & - (\\textit{0}) &  54.78 (\\textit{4}) &  32.83 (\\textit{3}) \\\\\n",
      "\t\\multirow{3}{*}{\\textbf{TyDiQA}\\f} & XLM-R-L & 64.29 (\\textit{9}) & 62.80 (\\textit{9}) & -1.49 & \\cellcolor{high-color!40}  67.26 (\\textit{5}) & \\cellcolor{low-color!40}  58.55 (\\textit{2}) & \\cellcolor{low-color!40}  62.60 (\\textit{2}) & - (\\textit{0}) & - (\\textit{0}) & - (\\textit{0}) & - (\\textit{0}) & - (\\textit{0}) \\\\\n",
      "\t & mBERT & 58.36 (\\textit{9}) & 56.91 (\\textit{9}) & -1.44 & \\cellcolor{high-color!40}  61.24 (\\textit{5}) & \\cellcolor{low-color!40}  55.55 (\\textit{2}) & \\cellcolor{low-color!40}  53.95 (\\textit{2}) & - (\\textit{0}) & - (\\textit{0}) & - (\\textit{0}) & - (\\textit{0}) & - (\\textit{0}) \\\\\n",
      "\t & mT5 & 81.94 (\\textit{9}) & 81.45 (\\textit{9}) & -0.50 & \\cellcolor{high-color!40}  82.94 (\\textit{5}) & \\cellcolor{low-color!40}  78.40 (\\textit{2}) & \\cellcolor{low-color!40}  83.00 (\\textit{2}) & - (\\textit{0}) & - (\\textit{0}) & - (\\textit{0}) & - (\\textit{0}) & - (\\textit{0}) \\\\\n",
      "\t\\multirow{2}{*}{\\textbf{UD-POS}\\f} & XLM-R-L & 74.96 (\\textit{38}) & 77.45 (\\textit{36}) & +2.50 & \\cellcolor{high-color!40}  74.59 (\\textit{20}) &  69.65 (\\textit{10}) & \\cellcolor{low-color!40}  71.55 (\\textit{2}) & - (\\textit{0}) & - (\\textit{0}) & - (\\textit{0}) &  86.97 (\\textit{4}) & \\cellcolor{low-color!40}  84.50 (\\textit{2}) \\\\\n",
      "\t & mBERT & 70.90 (\\textit{38}) & 71.60 (\\textit{36}) & +0.69 & \\cellcolor{high-color!40}  72.74 (\\textit{20}) &  62.82 (\\textit{10}) & \\cellcolor{low-color!40}  61.25 (\\textit{2}) & - (\\textit{0}) & - (\\textit{0}) & - (\\textit{0}) &  83.22 (\\textit{4}) & \\cellcolor{low-color!40}  77.95 (\\textit{2}) \\\\\n",
      "\t\\multirow{2}{*}{\\textbf{WikiANN-NER}\\f} & XLM-R-L & 64.43 (\\textit{48}) & 65.10 (\\textit{43}) & +0.67 & \\cellcolor{high-color!40}  66.80 (\\textit{20}) &  59.74 (\\textit{17}) & \\cellcolor{low-color!40}  57.95 (\\textit{2}) & - (\\textit{0}) & - (\\textit{0}) & - (\\textit{0}) &  79.70 (\\textit{4}) &  61.30 (\\textit{5}) \\\\\n",
      "\t & mBERT & 62.68 (\\textit{48}) & 63.98 (\\textit{43}) & +1.30 & \\cellcolor{high-color!40}  67.34 (\\textit{20}) &  54.26 (\\textit{17}) & \\cellcolor{low-color!40}  58.80 (\\textit{2}) & - (\\textit{0}) & - (\\textit{0}) & - (\\textit{0}) &  75.92 (\\textit{4}) &  63.58 (\\textit{5}) \\\\\n",
      "\t\\multirow{3}{*}{\\textbf{XCOPA}\\acc} & XLM-R & 69.22 (\\textit{11}) & 66.16 (\\textit{9}) & -3.06 & \\cellcolor{high-color!40}  72.89 (\\textit{7}) & \\cellcolor{low-color!40}  72.90 (\\textit{2}) & - (\\textit{0}) & - (\\textit{0}) & - (\\textit{0}) & - (\\textit{0}) & - (\\textit{0}) & \\cellcolor{low-color!40}  52.70 (\\textit{2}) \\\\\n",
      "\t & mBERT & 56.05 (\\textit{11}) & 55.17 (\\textit{9}) & -0.88 & \\cellcolor{high-color!40}  57.11 (\\textit{7}) & \\cellcolor{low-color!40}  55.50 (\\textit{2}) & - (\\textit{0}) & - (\\textit{0}) & - (\\textit{0}) & - (\\textit{0}) & - (\\textit{0}) & \\cellcolor{low-color!40}  52.90 (\\textit{2}) \\\\\n",
      "\t & mT5 & 74.89 (\\textit{11}) & 72.62 (\\textit{9}) & -2.27 & \\cellcolor{high-color!40}  77.61 (\\textit{7}) & \\cellcolor{low-color!40}  77.00 (\\textit{2}) & - (\\textit{0}) & - (\\textit{0}) & - (\\textit{0}) & - (\\textit{0}) & - (\\textit{0}) & \\cellcolor{low-color!40}  63.25 (\\textit{2}) \\\\\n",
      "\t\\multirow{3}{*}{\\textbf{XNLI}\\acc} & XLM-R & 79.24 (\\textit{15}) & 78.57 (\\textit{15}) & -0.67 & \\cellcolor{high-color!40}  80.31 (\\textit{9}) &  75.10 (\\textit{3}) & \\cellcolor{low-color!40}  77.20 (\\textit{1}) & - (\\textit{0}) & - (\\textit{0}) & - (\\textit{0}) &  81.65 (\\textit{2}) & - (\\textit{0}) \\\\\n",
      "\t & mBERT & 66.51 (\\textit{15}) & 65.79 (\\textit{15}) & -0.72 & \\cellcolor{high-color!40}  68.19 (\\textit{9}) &  60.03 (\\textit{3}) & \\cellcolor{low-color!40}  66.00 (\\textit{1}) & - (\\textit{0}) & - (\\textit{0}) & - (\\textit{0}) &  68.95 (\\textit{2}) & - (\\textit{0}) \\\\\n",
      "\t & mT5 & 84.85 (\\textit{15}) & 84.71 (\\textit{15}) & -0.14 & \\cellcolor{high-color!40}  85.39 (\\textit{9}) &  81.83 (\\textit{3}) & \\cellcolor{low-color!40}  84.50 (\\textit{1}) & - (\\textit{0}) & - (\\textit{0}) & - (\\textit{0}) &  87.10 (\\textit{2}) & - (\\textit{0}) \\\\\n",
      "\t\\multirow{3}{*}{\\textbf{XQuAD}\\f} & XLM-R-L & 77.21 (\\textit{11}) & 77.11 (\\textit{11}) & -0.10 & \\cellcolor{high-color!40}  76.70 (\\textit{6}) &  76.55 (\\textit{2}) & \\cellcolor{low-color!40}  74.40 (\\textit{1}) & - (\\textit{0}) & - (\\textit{0}) & - (\\textit{0}) &  80.80 (\\textit{2}) & - (\\textit{0}) \\\\\n",
      "\t & mBERT & 65.05 (\\textit{11}) & 63.55 (\\textit{11}) & -1.50 & \\cellcolor{high-color!40}  67.35 (\\textit{6}) &  56.60 (\\textit{2}) & \\cellcolor{low-color!40}  62.20 (\\textit{1}) & - (\\textit{0}) & - (\\textit{0}) & - (\\textit{0}) &  68.05 (\\textit{2}) & - (\\textit{0}) \\\\\n",
      "\t & mT5 & 81.54 (\\textit{11}) & 81.04 (\\textit{11}) & -0.49 & \\cellcolor{high-color!40}  82.22 (\\textit{6}) &  79.10 (\\textit{2}) & \\cellcolor{low-color!40}  80.30 (\\textit{1}) & - (\\textit{0}) & - (\\textit{0}) & - (\\textit{0}) &  82.55 (\\textit{2}) & - (\\textit{0}) \n",
      "\\end{tabular}\n",
      "Writing .tex inflection ...\n",
      "\\begin{tabular}{ll||llllllllll}\n",
      "\t                                        & & \\textbf{Overall} & \\textbf{By F} & $\\Delta$ & \\makecell{Equal\\\\ Pre \\& Suf} & \\makecell{Little\\\\ Aff} & \\makecell{Strong\\\\ Pre} & \\makecell{Strong\\\\ Suf} & \\makecell{Weak\\\\ Pre} & \\makecell{Weak\\\\ Suf} & NA \\\\\\hline\\hline\n",
      "\t\\multirow{2}{*}{\\textbf{LAReQA}\\map} & XLM-R-L & 40.75 (\\textit{11}) & 40.54 (\\textit{11}) & -0.22 & - (\\textit{0}) & \\cellcolor{low-color!40}  40.20 (\\textit{2}) & - (\\textit{0}) & \\cellcolor{high-color!40}  40.88 (\\textit{9}) & - (\\textit{0}) & - (\\textit{0}) & - (\\textit{0}) \\\\\n",
      "\t & mBERT & 21.58 (\\textit{11}) & 19.24 (\\textit{11}) & -2.35 & - (\\textit{0}) & \\cellcolor{low-color!40}  15.55 (\\textit{2}) & - (\\textit{0}) & \\cellcolor{high-color!40}  22.92 (\\textit{9}) & - (\\textit{0}) & - (\\textit{0}) & - (\\textit{0}) \\\\\n",
      "\t\\multirow{3}{*}{\\textbf{MLQA}\\f} & XLM-R-L & 72.71 (\\textit{7}) & 73.33 (\\textit{7}) & +0.62 & - (\\textit{0}) & \\cellcolor{low-color!40}  74.20 (\\textit{1}) & - (\\textit{0}) & \\cellcolor{high-color!40}  72.47 (\\textit{6}) & - (\\textit{0}) & - (\\textit{0}) & - (\\textit{0}) \\\\\n",
      "\t & mBERT & 61.30 (\\textit{7}) & 60.84 (\\textit{7}) & -0.46 & - (\\textit{0}) & \\cellcolor{low-color!40}  60.20 (\\textit{1}) & - (\\textit{0}) & \\cellcolor{high-color!40}  61.48 (\\textit{6}) & - (\\textit{0}) & - (\\textit{0}) & - (\\textit{0}) \\\\\n",
      "\t & mT5 & 75.59 (\\textit{7}) & 75.97 (\\textit{7}) & +0.38 & - (\\textit{0}) & \\cellcolor{low-color!40}  76.50 (\\textit{1}) & - (\\textit{0}) & \\cellcolor{high-color!40}  75.43 (\\textit{6}) & - (\\textit{0}) & - (\\textit{0}) & - (\\textit{0}) \\\\\n",
      "\t\\multirow{2}{*}{\\textbf{Mewsli-X}\\map} & XLM-R-L & 45.75 (\\textit{11}) & 36.23 (\\textit{11}) & -9.52 & - (\\textit{0}) & - (\\textit{0}) & - (\\textit{0}) & \\cellcolor{high-color!40}  47.86 (\\textit{10}) & - (\\textit{0}) & \\cellcolor{low-color!40}  24.60 (\\textit{1}) & - (\\textit{0}) \\\\\n",
      "\t & mBERT & 38.58 (\\textit{11}) & 27.29 (\\textit{11}) & -11.29 & - (\\textit{0}) & - (\\textit{0}) & - (\\textit{0}) & \\cellcolor{high-color!40}  41.09 (\\textit{10}) & - (\\textit{0}) & \\cellcolor{low-color!40}  13.50 (\\textit{1}) & - (\\textit{0}) \\\\\n",
      "\t\\multirow{2}{*}{\\textbf{Tatoeba}\\acc} & XLM-R & 77.29 (\\textit{41}) & 64.92 (\\textit{36}) & -12.36 & \\cellcolor{low-color!40}  58.60 (\\textit{1}) &  77.43 (\\textit{3}) & - (\\textit{0}) & \\cellcolor{high-color!40}  82.10 (\\textit{28}) & \\cellcolor{low-color!40}  31.30 (\\textit{1}) &  76.37 (\\textit{3}) &  63.74 (\\textit{5}) \\\\\n",
      "\t & mBERT & 43.33 (\\textit{41}) & 32.03 (\\textit{36}) & -11.30 & \\cellcolor{low-color!40}  31.00 (\\textit{1}) &  32.90 (\\textit{3}) & - (\\textit{0}) & \\cellcolor{high-color!40}  49.24 (\\textit{28}) & \\cellcolor{low-color!40}  12.10 (\\textit{1}) &  39.27 (\\textit{3}) &  27.68 (\\textit{5}) \\\\\n",
      "\t\\multirow{3}{*}{\\textbf{TyDiQA}\\f} & XLM-R-L & 64.29 (\\textit{9}) & 62.57 (\\textit{8}) & -1.72 & - (\\textit{0}) & \\cellcolor{low-color!40}  59.10 (\\textit{1}) & - (\\textit{0}) & \\cellcolor{high-color!40}  65.67 (\\textit{6}) & \\cellcolor{low-color!40}  66.40 (\\textit{1}) & - (\\textit{0}) & \\cellcolor{low-color!40}  59.10 (\\textit{1}) \\\\\n",
      "\t & mBERT & 58.36 (\\textit{9}) & 55.09 (\\textit{8}) & -3.26 & - (\\textit{0}) & \\cellcolor{low-color!40}  46.20 (\\textit{1}) & - (\\textit{0}) & \\cellcolor{high-color!40}  60.97 (\\textit{6}) & \\cellcolor{low-color!40}  59.70 (\\textit{1}) & - (\\textit{0}) & \\cellcolor{low-color!40}  53.50 (\\textit{1}) \\\\\n",
      "\t & mT5 & 81.94 (\\textit{9}) & 83.73 (\\textit{8}) & +1.78 & - (\\textit{0}) & \\cellcolor{low-color!40}  83.60 (\\textit{1}) & - (\\textit{0}) & \\cellcolor{high-color!40}  80.52 (\\textit{6}) & \\cellcolor{low-color!40}  87.20 (\\textit{1}) & - (\\textit{0}) & \\cellcolor{low-color!40}  83.60 (\\textit{1}) \\\\\n",
      "\t\\multirow{2}{*}{\\textbf{UD-POS}\\f} & XLM-R-L & 74.96 (\\textit{38}) & 71.12 (\\textit{36}) & -3.84 & \\cellcolor{low-color!40}  74.30 (\\textit{1}) &  45.98 (\\textit{5}) & - (\\textit{0}) & \\cellcolor{high-color!40}  79.75 (\\textit{28}) & - (\\textit{0}) &  71.05 (\\textit{2}) &  84.50 (\\textit{2}) \\\\\n",
      "\t & mBERT & 70.90 (\\textit{38}) & 64.43 (\\textit{36}) & -6.47 & \\cellcolor{low-color!40}  59.30 (\\textit{1}) &  48.66 (\\textit{5}) & - (\\textit{0}) & \\cellcolor{high-color!40}  75.51 (\\textit{28}) & - (\\textit{0}) &  60.75 (\\textit{2}) &  77.95 (\\textit{2}) \\\\\n",
      "\t\\multirow{2}{*}{\\textbf{WikiANN-NER}\\f} & XLM-R-L & 64.43 (\\textit{48}) & 62.02 (\\textit{40}) & -2.41 & \\cellcolor{low-color!40}  62.10 (\\textit{1}) &  48.17 (\\textit{4}) & - (\\textit{0}) & \\cellcolor{high-color!40}  66.92 (\\textit{31}) & \\cellcolor{low-color!40}  69.90 (\\textit{1}) &  61.37 (\\textit{3}) &  63.66 (\\textit{8}) \\\\\n",
      "\t & mBERT & 62.68 (\\textit{48}) & 61.73 (\\textit{40}) & -0.95 & \\cellcolor{low-color!40}  65.00 (\\textit{1}) &  49.38 (\\textit{4}) & - (\\textit{0}) & \\cellcolor{high-color!40}  64.93 (\\textit{31}) & \\cellcolor{low-color!40}  72.70 (\\textit{1}) &  57.23 (\\textit{3}) &  61.12 (\\textit{8}) \\\\\n",
      "\t\\multirow{3}{*}{\\textbf{XCOPA}\\acc} & XLM-R & 69.22 (\\textit{11}) & 65.93 (\\textit{9}) & -3.28 & - (\\textit{0}) &  75.30 (\\textit{2}) & - (\\textit{0}) & \\cellcolor{high-color!40}  73.93 (\\textit{6}) & \\cellcolor{low-color!40}  61.80 (\\textit{1}) & - (\\textit{0}) &  52.70 (\\textit{2}) \\\\\n",
      "\t & mBERT & 56.05 (\\textit{11}) & 54.75 (\\textit{9}) & -1.30 & - (\\textit{0}) &  56.20 (\\textit{2}) & - (\\textit{0}) & \\cellcolor{high-color!40}  57.70 (\\textit{6}) & \\cellcolor{low-color!40}  52.20 (\\textit{1}) & - (\\textit{0}) &  52.90 (\\textit{2}) \\\\\n",
      "\t & mT5 & 74.89 (\\textit{11}) & 73.24 (\\textit{9}) & -1.65 & - (\\textit{0}) &  77.60 (\\textit{2}) & - (\\textit{0}) & \\cellcolor{high-color!40}  78.00 (\\textit{6}) & \\cellcolor{low-color!40}  74.10 (\\textit{1}) & - (\\textit{0}) &  63.25 (\\textit{2}) \\\\\n",
      "\t\\multirow{3}{*}{\\textbf{XNLI}\\acc} & XLM-R & 79.24 (\\textit{15}) & 76.54 (\\textit{15}) & -2.70 & - (\\textit{0}) &  78.35 (\\textit{2}) & - (\\textit{0}) & \\cellcolor{high-color!40}  80.06 (\\textit{12}) & \\cellcolor{low-color!40}  71.20 (\\textit{1}) & - (\\textit{0}) & - (\\textit{0}) \\\\\n",
      "\t & mBERT & 66.51 (\\textit{15}) & 60.17 (\\textit{15}) & -6.35 & - (\\textit{0}) &  62.60 (\\textit{2}) & - (\\textit{0}) & \\cellcolor{high-color!40}  68.60 (\\textit{12}) & \\cellcolor{low-color!40}  49.30 (\\textit{1}) & - (\\textit{0}) & - (\\textit{0}) \\\\\n",
      "\t & mT5 & 84.85 (\\textit{15}) & 82.92 (\\textit{15}) & -1.92 & - (\\textit{0}) &  82.60 (\\textit{2}) & - (\\textit{0}) & \\cellcolor{high-color!40}  85.57 (\\textit{12}) & \\cellcolor{low-color!40}  80.60 (\\textit{1}) & - (\\textit{0}) & - (\\textit{0}) \\\\\n",
      "\t\\multirow{3}{*}{\\textbf{XQuAD}\\f} & XLM-R-L & 77.21 (\\textit{11}) & 77.24 (\\textit{11}) & +0.04 & - (\\textit{0}) & \\cellcolor{low-color!40}  77.30 (\\textit{2}) & - (\\textit{0}) & \\cellcolor{high-color!40}  77.19 (\\textit{9}) & - (\\textit{0}) & - (\\textit{0}) & - (\\textit{0}) \\\\\n",
      "\t & mBERT & 65.05 (\\textit{11}) & 61.84 (\\textit{11}) & -3.21 & - (\\textit{0}) & \\cellcolor{low-color!40}  56.80 (\\textit{2}) & - (\\textit{0}) & \\cellcolor{high-color!40}  66.89 (\\textit{9}) & - (\\textit{0}) & - (\\textit{0}) & - (\\textit{0}) \\\\\n",
      "\t & mT5 & 81.54 (\\textit{11}) & 80.55 (\\textit{11}) & -0.99 & - (\\textit{0}) & \\cellcolor{low-color!40}  79.00 (\\textit{2}) & - (\\textit{0}) & \\cellcolor{high-color!40}  82.10 (\\textit{9}) & - (\\textit{0}) & - (\\textit{0}) & - (\\textit{0}) \n",
      "\\end{tabular}\n"
     ]
    }
   ],
   "source": [
    "create_table(WORD_ORDER, 'word_order')\n",
    "create_table(INFLECTION, 'inflection')"
   ]
  },
  {
   "cell_type": "code",
   "execution_count": null,
   "metadata": {},
   "outputs": [],
   "source": []
  }
 ],
 "metadata": {
  "kernelspec": {
   "display_name": "typ",
   "language": "python",
   "name": "python3"
  },
  "language_info": {
   "codemirror_mode": {
    "name": "ipython",
    "version": 3
   },
   "file_extension": ".py",
   "mimetype": "text/x-python",
   "name": "python",
   "nbconvert_exporter": "python",
   "pygments_lexer": "ipython3",
   "version": "3.10.13"
  }
 },
 "nbformat": 4,
 "nbformat_minor": 2
}
