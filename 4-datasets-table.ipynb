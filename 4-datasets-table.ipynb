{
 "cells": [
  {
   "cell_type": "code",
   "execution_count": 1,
   "metadata": {},
   "outputs": [],
   "source": [
    "import pandas as pd\n",
    "import pandas as pd\n",
    "\n",
    "from formatting import TITLE_MAP, make_bold\n",
    "\n",
    "df = pd.read_csv(\"data/annotations-enhanced.csv\")\n",
    "df = df[\n",
    "    (df[\"has_claim\"] == 1)\n",
    "    & (df[\"introduces_dataset\"] == 1)\n",
    "    & (df[\"isos_wals\"].notnull())\n",
    "]"
   ]
  },
  {
   "cell_type": "code",
   "execution_count": 2,
   "metadata": {},
   "outputs": [
    {
     "data": {
      "text/plain": [
       "Index(['id', 'title', 'year', 'web_url', 'venue', 'track', 'abstract',\n",
       "       'has_claim', 'has_claim_e', 'has_claim_w', 'introduces_dataset',\n",
       "       'introduces_dataset_e', 'introduces_dataset_w', 'claim_related_to_e',\n",
       "       'claim_related_to_w', 'has_typ_justification_e',\n",
       "       'has_typ_justification_w', 'justification_e', 'justification_w',\n",
       "       'iso_codes_e', 'iso_codes_w', 'comment_e', 'comment_w', 'iso_codes',\n",
       "       'isos_wals', 'n_langs', 'mpd', 'mpd_missing', 'mpd_low_cov',\n",
       "       'gb_complete_cov', 'gb_incomplete_cov', 'gb_coverage', 'gb_missing'],\n",
       "      dtype='object')"
      ]
     },
     "execution_count": 2,
     "metadata": {},
     "output_type": "execute_result"
    }
   ],
   "source": [
    "df.columns"
   ]
  },
  {
   "cell_type": "code",
   "execution_count": 3,
   "metadata": {},
   "outputs": [
    {
     "name": "stdout",
     "output_type": "stream",
     "text": [
      "Writing .tex datasets ...\n",
      "\\begin{tabular}{l||lllll}\n",
      "\t                                               & \\textbf{Dataset name} & \\textbf{$|$L$|$ ($\\downarrow$)} & \\textbf{MPD} & \\textbf{GB} & \\textbf{Task(s) or Topic} \\\\\\hline\\hline\n",
      "\t\\citet{vylomova-etal-2020-sigmorphon} &  & 90 &  0.76\\lowcov &  0.92\\missing & Morphological inflection \\\\\n",
      "\t\\citet{henrichsen-uneson-2012-smallworlds} & SMALLWorlds & 53 &  0.65\\lowcov & \\cellcolor{high-color!40}  0.94 & ASR \\\\\n",
      "\t\\citet{fitzgerald-etal-2023-massive} & MASSIVE & 51 &  0.64\\lowcov &  0.92 & Slot-filling, Intent classification \\\\\n",
      "\t\\citet{ruder-etal-2021-xtreme} & XTREME-R & 50 &  0.66\\lowcov &  0.92\\missing & Classification, Parsing, IR, QA \\\\\n",
      "\t\\citet{kodner-etal-2022-sigmorphon} &  & 32\\nolang &  0.68\\lowcov &  0.88\\missing & Morphological inflection \\\\\n",
      "\t\\citet{goldman-etal-2023-sigmorphon} &  & 26 &  0.64 &  0.89 & Morphological inflection \\\\\n",
      "\t\\citet{longpre-etal-2021-mkqa} & MKQA & 25 &  0.61 &  0.89 & QA \\\\\n",
      "\t\\citet{jiang-etal-2020-x} & X-FACTR & 23 &  0.66\\lowcov &  0.88 & Knowledge retrieval \\\\\n",
      "\t\\citet{bugliarello2022iglue} & IGLUE & 20 &  0.63 &  0.85 & Visual QA, IR, RE, NLI \\\\\n",
      "\t\\citet{dione-etal-2023-masakhapos} & MasakhaPOS & 20 &  0.64\\lowcov &  0.67 & Part-of-speech tagging \\\\\n",
      "\t\\citet{zhang-etal-2023-miracl} & MIRACL & 18 &  0.64 &  0.85 & IR \\\\\n",
      "\t\\citet{palma-gomez-etal-2023-using} &  & 16 &  0.62\\lowcov &  0.84 & Language learning, cloze test \\\\\n",
      "\t\\citet{asai-etal-2022-mia} &  & 15 &  0.66 &  0.84 & QA \\\\\n",
      "\t\\citet{jancso-etal-2020-acqdiv} & ACQDIV & 14 &  0.73\\lowcov &  0.84 & Language acquisition \\\\\n",
      "\t\\citet{vulic-etal-2020-multi} & Multi-SimLex & 12 &  0.58 &  0.83 & Semantic similarity \\\\\n",
      "\t\\citet{eskander-etal-2020-morphagram} & MorphAGram & 12 &  0.72\\lowcov &  0.75 & Morphological segmentation \\\\\n",
      "\t\\citet{hennig-etal-2023-multitacred} & MultiTACRED & 12 &  0.58 &  0.84 & Relation extraction \\\\\n",
      "\t\\citet{ponti-etal-2020-xcopa} & XCOPA & 12 &  0.66 &  0.75\\missing & Commonsense reasoning \\\\\n",
      "\t\\citet{buechel-etal-2020-learning-evaluating} &  & 12 &  0.58 &  0.72 & Lexicon generation \\\\\n",
      "\t\\citet{clark-etal-2020-tydi} & TyDiQA & 11 &  0.67 &  0.76 & QA \\\\\n",
      "\t\\citet{zhang-etal-2021-mr} & Mr. TyDi & 11 &  0.67 &  0.76 & IR \\\\\n",
      "\t\\citet{shi2023language} & MGSM & 10 &  0.65 &  0.73 & Arithmetic reasoning \\\\\n",
      "\t\\citet{mott-etal-2020-morphological} &  & 9 &  0.65 &  0.73 & Morphological segmentation \\\\\n",
      "\t\\citet{srinivasan-choi-2022-tydip} & TyDiP & 9 &  0.62 &  0.75 & Politeness classification \\\\\n",
      "\t\\citet{gupta-etal-2023-cross} & Xtr-WikiQA \\& TyDi-AS2 & 8 &  0.64 &  0.69 & QA, Answer sentence selection \\\\\n",
      "\t\\citet{pfeiffer-etal-2022-xgqa} & xGQA & 8 & \\cellcolor{low-color!40}  0.58 &  0.66 & Visual QA \\\\\n",
      "\t\\citet{sproat-etal-2014-database} &  & 8 &  0.58 &  0.75 & Linguistic information content \\\\\n",
      "\t\\citet{samir-silfverberg-2023-understanding} &  & 7 &  0.66 &  0.67 & Morphological inflection \\\\\n",
      "\t\\citet{ginn-etal-2023-findings} &  & 7 &  0.80\\lowcov &  0.50 & Interlinear glossing \\\\\n",
      "\t\\citet{sarti-etal-2022-divemt} & DivEMT & 6 &  0.64 &  0.69 & MT post-editing \\\\\n",
      "\t\\citet{glavas-etal-2020-xhate} & XHate-999 & 6 &  0.64 &  0.49 & Abusive language classification \\\\\n",
      "\t\\citet{majewska-etal-2020-manual} & SpAM & 5 &  0.58 &  0.70 & Verb analysis \\\\\n",
      "\t\\citet{yadavalli-etal-2023-slabert} & SLABERT & 5 &  0.61 &  0.66 & Second language acquisition \\\\\n",
      "\t\\citet{liu-etal-2021-visually} & MaRVL & 5 &  0.69 &  0.56 & Visually grounded RE \\\\\n",
      "\t\\citet{hung-etal-2022-multi2woz} & Multi2WOZ & 4 &  0.61 &  0.58 & Task-oriented dialogues \\\\\n",
      "\t\\citet{bartelds-etal-2023-making} &  & 4 &  nan\\lowcov & \\cellcolor{low-color!40}  0.00 & ASR \\\\\n",
      "\t\\citet{sasaki-etal-2002-co} &  & 2 & \\cellcolor{high-color!40}  0.84 &  0.39 & Co-reference resolution \n",
      "\\end{tabular}\n"
     ]
    }
   ],
   "source": [
    "from fiject.visuals.tables import Table, ColumnStyle\n",
    "from fiject import CacheMode\n",
    "\n",
    "table = Table(\"datasets\", CacheMode.NONE)\n",
    "\n",
    "SORT_KEY = \"n_langs\"\n",
    "\n",
    "df = df.sort_values(\"n_langs\", ascending=False)\n",
    "\n",
    "max_mpd = df[\"mpd\"].max()\n",
    "min_mpd = df[\"mpd\"].min()\n",
    "\n",
    "max_cov = df[\"gb_coverage\"].max()\n",
    "min_cov = df[\"gb_coverage\"].min()\n",
    "\n",
    "for _, row in df.iterrows():\n",
    "    title = row[\"title\"]\n",
    "    cite, name, task = TITLE_MAP[title]\n",
    "    name = name or \"\"\n",
    "    n_langs = str(int(row[\"n_langs\"]))\n",
    "\n",
    "    if row[\"mpd\"] == max_mpd:\n",
    "        mpd_pre = \"\\cellcolor{high-color!40} \"\n",
    "    elif row[\"mpd\"] == min_mpd:\n",
    "        mpd_pre = \"\\cellcolor{low-color!40} \"\n",
    "    else:\n",
    "        mpd_pre = \"\"\n",
    "\n",
    "    mpd = f\"{mpd_pre} {row['mpd']:.2f}\"\n",
    "\n",
    "    langs = f\"{n_langs}\\\\nolang\" if row[\"mpd_missing\"] > 0 else n_langs\n",
    "    mpd = f\"{mpd}\\\\lowcov\" if row[\"mpd_low_cov\"] > 0 else mpd\n",
    "\n",
    "    g_cov = row.get(\"gb_coverage\", None)\n",
    "\n",
    "    if g_cov == max_cov:\n",
    "        cov_pre = \"\\cellcolor{high-color!40} \"\n",
    "    elif g_cov == min_cov:\n",
    "        cov_pre = \"\\cellcolor{low-color!40} \"\n",
    "    else:\n",
    "        cov_pre = \"\"\n",
    "\n",
    "    g_cov = f\"{cov_pre} {g_cov:.2f}\" if g_cov is not None else f\"{cov_pre} --\"\n",
    "    g_cov = f\"{g_cov}\\\\missing\" if row.get(\"gb_missing\", 0) > 0 else g_cov\n",
    "\n",
    "    table.set(name, [cite], [make_bold(\"Dataset name\")])\n",
    "    table.set(\n",
    "        langs, [cite], [make_bold(\"$|$L$|$ ($\\\\downarrow$)\")]\n",
    "    )  # change if SORT_KEY is changed\n",
    "    table.set(mpd, [cite], [make_bold(\"MPD\")])\n",
    "    table.set(g_cov, [cite], [make_bold(\"GB\")])\n",
    "    table.set(task, [cite], [make_bold(\"Task(s) or Topic\")])\n",
    "\n",
    "table.commit(\n",
    "    default_column_style=ColumnStyle(\"l\"),\n",
    "    do_hhline_syntax=False,\n",
    ")"
   ]
  },
  {
   "cell_type": "markdown",
   "metadata": {},
   "source": [
    "# Note\n",
    "The final table require some tweaks:\n",
    "- remove hlines and vertical lines\n",
    "- alignment of L is nicer with r instead of l\n",
    "- remove the nan\n",
    "- put \\\\ at the bottom row\n",
    "- add toprule and bottomrule\n",
    "- add midrule for column heading"
   ]
  }
 ],
 "metadata": {
  "kernelspec": {
   "display_name": "typ",
   "language": "python",
   "name": "python3"
  },
  "language_info": {
   "codemirror_mode": {
    "name": "ipython",
    "version": 3
   },
   "file_extension": ".py",
   "mimetype": "text/x-python",
   "name": "python",
   "nbconvert_exporter": "python",
   "pygments_lexer": "ipython3",
   "version": "3.10.13"
  }
 },
 "nbformat": 4,
 "nbformat_minor": 2
}
