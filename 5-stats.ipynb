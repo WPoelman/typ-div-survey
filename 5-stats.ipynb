{
 "cells": [
  {
   "cell_type": "markdown",
   "metadata": {},
   "source": [
    "# Annotation stats"
   ]
  },
  {
   "cell_type": "code",
   "execution_count": 60,
   "metadata": {},
   "outputs": [],
   "source": [
    "import pandas as pd\n",
    "from pathlib import Path\n",
    "from sklearn.metrics import cohen_kappa_score\n",
    "\n",
    "df = pd.read_csv(\"data/annotations.csv\", parse_dates=[\"year\"])"
   ]
  },
  {
   "cell_type": "code",
   "execution_count": 61,
   "metadata": {},
   "outputs": [
    {
     "data": {
      "text/plain": [
       "38"
      ]
     },
     "execution_count": 61,
     "metadata": {},
     "output_type": "execute_result"
    }
   ],
   "source": [
    "len(df[(df[\"has_claim\"] == 1) & (df[\"introduces_dataset\"] == 1)])"
   ]
  },
  {
   "cell_type": "code",
   "execution_count": 62,
   "metadata": {},
   "outputs": [
    {
     "data": {
      "text/plain": [
       "0.7772066061467789"
      ]
     },
     "execution_count": 62,
     "metadata": {},
     "output_type": "execute_result"
    }
   ],
   "source": [
    "cohen_kappa_score(df['has_claim_e'], df['has_claim_w'])"
   ]
  },
  {
   "cell_type": "code",
   "execution_count": 63,
   "metadata": {},
   "outputs": [],
   "source": [
    "df = df[df['has_claim'] == 1]"
   ]
  },
  {
   "cell_type": "code",
   "execution_count": 64,
   "metadata": {},
   "outputs": [
    {
     "data": {
      "text/plain": [
       "0.7136481963555226"
      ]
     },
     "execution_count": 64,
     "metadata": {},
     "output_type": "execute_result"
    }
   ],
   "source": [
    "df['introduces_dataset_e'] = df['introduces_dataset_e'].fillna(0)\n",
    "df['introduces_dataset_w'] = df['introduces_dataset_w'].fillna(0)\n",
    "\n",
    "cohen_kappa_score(df['introduces_dataset_e'], df['introduces_dataset_w'])\n"
   ]
  },
  {
   "cell_type": "code",
   "execution_count": 65,
   "metadata": {},
   "outputs": [],
   "source": [
    "df[\"iso_codes_e\"] = (\n",
    "    df[\"iso_codes_e\"]\n",
    "    .fillna(\"NONE\")\n",
    "    .apply(lambda item: \",\".join(sorted(i.strip() for i in item.strip().split(\",\"))))\n",
    ")\n",
    "df[\"iso_codes_w\"] = (\n",
    "    df[\"iso_codes_w\"]\n",
    "    .fillna(\"NONE\")\n",
    "    .apply(lambda item: \",\".join(sorted(i.strip() for i in item.strip().split(\",\"))))\n",
    ")"
   ]
  },
  {
   "cell_type": "code",
   "execution_count": 66,
   "metadata": {},
   "outputs": [
    {
     "data": {
      "text/plain": [
       "0.43915078569040455"
      ]
     },
     "execution_count": 66,
     "metadata": {},
     "output_type": "execute_result"
    }
   ],
   "source": [
    "cohen_kappa_score(df['iso_codes_e'], df['iso_codes_w'])"
   ]
  },
  {
   "cell_type": "markdown",
   "metadata": {},
   "source": [
    "# Results stats"
   ]
  },
  {
   "cell_type": "code",
   "execution_count": 81,
   "metadata": {},
   "outputs": [
    {
     "data": {
      "text/plain": [
       "316"
      ]
     },
     "execution_count": 81,
     "metadata": {},
     "output_type": "execute_result"
    }
   ],
   "source": [
    "unique_langs"
   ]
  },
  {
   "cell_type": "code",
   "execution_count": 101,
   "metadata": {},
   "outputs": [
    {
     "name": "stdout",
     "output_type": "stream",
     "text": [
      "\n",
      "Total papers:       194\n",
      "Papers with claim:  110\n",
      "Introduce dataset:  38\n",
      "N langs per paper:  2.0 -- 90.0, median: 11.0\n",
      "Unique langs:       315\n",
      "Langs used once:    160\n",
      "Top 5 lang:           lang  count\n",
      "0  eng     63\n",
      "1  deu     60\n",
      "2  rus     58\n",
      "3  fin     57\n",
      "4  spa     55\n",
      "\n"
     ]
    }
   ],
   "source": [
    "df = pd.read_csv(\"data/annotations.csv\", parse_dates=[\"year\"])\n",
    "\n",
    "with_langs = df[\"isos_wals\"].notnull()\n",
    "\n",
    "df.loc[with_langs, \"nlangs\"] = df.loc[with_langs, \"isos_wals\"].str.count(\",\") + 1\n",
    "df.loc[with_langs, \"codes\"] = df.loc[with_langs, \"isos_wals\"].str.split(\",\")\n",
    "\n",
    "lang_df = (\n",
    "    df[with_langs][\"isos_wals\"]\n",
    "    .str.split(\",\")\n",
    "    .explode()\n",
    "    .value_counts()\n",
    "    .rename_axis(\"lang\")\n",
    "    .reset_index(name=\"count\")\n",
    ")\n",
    "\n",
    "print(\n",
    "    f\"\"\"\n",
    "Total papers:       {df.shape[0]}\n",
    "Papers with claim:  {df[df['has_claim'] == 1].shape[0]}\n",
    "Introduce dataset:  {df[df['introduces_dataset'] == 1].shape[0]}\n",
    "N langs per paper:  {df['nlangs'].min()} -- {df['nlangs'].max()}, median: {df['nlangs'].median()}\n",
    "Unique langs:       {lang_df.shape[0]}\n",
    "Langs used once:    {lang_df[lang_df['count'] == 1].shape[0]}\n",
    "Top 5 lang:         {lang_df.head()}\n",
    "\"\"\"\n",
    ")"
   ]
  },
  {
   "cell_type": "code",
   "execution_count": null,
   "metadata": {},
   "outputs": [],
   "source": []
  }
 ],
 "metadata": {
  "kernelspec": {
   "display_name": "typ",
   "language": "python",
   "name": "python3"
  },
  "language_info": {
   "codemirror_mode": {
    "name": "ipython",
    "version": 3
   },
   "file_extension": ".py",
   "mimetype": "text/x-python",
   "name": "python",
   "nbconvert_exporter": "python",
   "pygments_lexer": "ipython3",
   "version": "3.10.13"
  },
  "orig_nbformat": 4
 },
 "nbformat": 4,
 "nbformat_minor": 2
}
